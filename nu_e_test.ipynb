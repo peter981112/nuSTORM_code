{
 "cells": [
  {
   "cell_type": "code",
   "execution_count": 1,
   "id": "05d6f65d",
   "metadata": {},
   "outputs": [],
   "source": [
    "import matplotlib.pyplot as plt\n",
    "import numpy as np\n",
    "import time\n",
    "import scipy\n",
    "\n",
    "from scipy import linalg\n",
    "from scipy.sparse.linalg import eigsh\n",
    "from scipy.sparse.linalg import spsolve\n",
    "from scipy.sparse import diags\n",
    "from scipy.sparse import identity"
   ]
  },
  {
   "cell_type": "code",
   "execution_count": 2,
   "id": "d8d1bb0a",
   "metadata": {},
   "outputs": [],
   "source": [
    "#GiBUU FinalEvents.dat data struct\n",
    "# 1:Run  2:Event  3:ID 4:Charge     5:perweight   6:position(1)   7:position(2)   8:position(3)   9:momentum(0)  \n",
    "#10:momentum(1)  11:momentum(2)  12:momentum(3)     13:history  14:production_ID  15:enu\n",
    "\n",
    "# sscanf(tmpline.Data(),\"%d %d %d %d %lf %lf %lf %lf %lf %lf %lf %lf %*d %d %lf\", \n",
    "#& 1-tmprun, & 2-tmpevent, & 3-tmpid, & 4-tmpcharge, & 5-tmppw, & 6-tmppos1, & 7-tmppos2, & 8-tmppos3, \n",
    "#& 9-tmptote, & 10-tmpmom1, & 11-tmpmom2, & 12-tmpmom3, /*&history,*/ & 14-tmpprod, & 15-tmpenu);\n",
    "\n",
    "    #1: nucleon (QE)\n",
    "    #2-31: non-strange baryon resonance (as in IdTable)\n",
    "    #32: pi neutron-background (e.g. nu + n -> mu + pi+ + n)\n",
    "    #33: pi proton-background (e.g. nu + n -> mu + pi0 + p)\n",
    "    #34: DIS\n",
    "    #35: 2p2h QE\n",
    "    #36: 2p2h Delta\n",
    "    #37: two pion background\n"
   ]
  },
  {
   "cell_type": "code",
   "execution_count": 3,
   "id": "310923d9",
   "metadata": {},
   "outputs": [],
   "source": [
    "data_1_line = np.zeros(15)\n",
    "data_1_line = [1, 4, 1, 1, 0.000000E+00, 0.000000E+00, 0.000000E+00, 0.000000E+00, 9.276043E-01, 1.171171E-01,-6.729271E-03, -1.334868E-01, 0, 35, 1.926118E+00]\n",
    "\n",
    "run_n = data_1_line[0] #run\n",
    "event_n = data_1_line[1] #event\n",
    "particle_id = data_1_line[2] #id of particle\n",
    "perweight = data_1_line[4] #weight of event\n",
    "prod_id = data_1_line[13] #production id\n",
    "beam_E = data_1_line[14] #energy of incoming neutrino from beam\n",
    "\n",
    "part_pos = np.array([data_1_line[5], data_1_line[6], data_1_line[7]]) #position of particle in final state\n",
    "part_4vec = np.array([data_1_line[8], data_1_line[9], data_1_line[10], data_1_line[11]])\n",
    "\n"
   ]
  },
  {
   "cell_type": "code",
   "execution_count": 4,
   "id": "46e8a483",
   "metadata": {},
   "outputs": [
    {
     "data": {
      "text/plain": [
       "array([ 0.9276043 ,  0.1171171 , -0.00672927, -0.1334868 ])"
      ]
     },
     "execution_count": 4,
     "metadata": {},
     "output_type": "execute_result"
    }
   ],
   "source": [
    "part_4vec"
   ]
  },
  {
   "cell_type": "code",
   "execution_count": 5,
   "id": "7b7d9ae1",
   "metadata": {},
   "outputs": [],
   "source": [
    "PionMass = 139.570/1e3\n",
    "\n",
    "\n",
    "def read_event_csv(filename, run_n, event_n): #return event with the run number and event nunber\n",
    "    filein = open(filename, \"r\")            # Open file for reading\n",
    "    inputd = filein.readlines()\n",
    "    inputdata = []\n",
    "    temp_data_1_line = []\n",
    "\n",
    "    leng = len(inputd)\n",
    "    print(\"the number of line of the txt file list is : \" + str(leng))\n",
    "\n",
    "    for i in range(1,leng):\n",
    "        tokens = inputd[i].split(\",\")\n",
    "        \n",
    "        for j in range(0,15):\n",
    "            if j<4:\n",
    "                tokens[j] = int(tokens[j])\n",
    "            elif j<12:\n",
    "                tokens[j] = float(tokens[j])\n",
    "            elif j<14:\n",
    "                tokens[j] = int(tokens[j])\n",
    "            else:\n",
    "                tokens[j] = float(tokens[j])\n",
    "                \n",
    "        temp_data_1_line = tokens\n",
    "\n",
    "        if (temp_data_1_line[0] == float(run_n)) and (temp_data_1_line[1] == float(event_n)):\n",
    "            inputdata.append(temp_data_1_line)\n",
    "            \n",
    "    del(inputd)            \n",
    "    return inputdata\n",
    "\n",
    "def read_event(filename, run_n, event_n): #return event with the run number and event nunber\n",
    "    filein = open(filename, \"r\")            # Open file for reading\n",
    "    inputd = filein.readlines()\n",
    "    inputdata = []\n",
    "    temp_data_1_line = []\n",
    "\n",
    "    leng = len(inputd)\n",
    "    print(\"the number of line of the txt file list is : \" + str(leng))\n",
    "\n",
    "    for i in range(1,leng):\n",
    "        tokens = inputd[i].split()#(\"\t\")\n",
    "        \n",
    "        for j in range(0,15):\n",
    "            if j<4:\n",
    "                tokens[j] = int(tokens[j])\n",
    "            elif j<12:\n",
    "                tokens[j] = float(tokens[j])\n",
    "            elif j<14:\n",
    "                tokens[j] = int(tokens[j])\n",
    "            else:\n",
    "                tokens[j] = float(tokens[j])\n",
    "                \n",
    "        temp_data_1_line = tokens\n",
    "\n",
    "        if (temp_data_1_line[0] == float(run_n)) and (temp_data_1_line[1] == float(event_n)):\n",
    "            inputdata.append(temp_data_1_line)\n",
    "         \n",
    "    del(inputd)\n",
    "    return inputdata\n",
    "\n",
    "#4-vector is in form of [t,x,y,z]\n",
    "\n",
    "def get_P(Lorentz_4vec):#return momentum from 4 momentum\n",
    "    return np.linalg.norm(np.array([Lorentz_4vec[1],Lorentz_4vec[2],Lorentz_4vec[3]]))\n",
    "\n",
    "def get_mag2(Lorentz_4vec):#return magnitude sq from 4 momentum\n",
    "    return Lorentz_4vec[0]**2-(Lorentz_4vec[1]**2+Lorentz_4vec[2]**2+Lorentz_4vec[3]**2)\n",
    "\n",
    "def get_mag(Lorentz_4vec):#return magnitude sq from 4 momentum\n",
    "    return np.sqrt(Lorentz_4vec[0]**2-(Lorentz_4vec[1]**2+Lorentz_4vec[2]**2+Lorentz_4vec[3]**2))\n",
    "\n",
    "def Dot_Lor(Lorentz_4vec1, Lorentz_4vec2):#return magnitude sq from 4 momentum\n",
    "    return Lorentz_4vec1[0]*Lorentz_4vec2[0]-Lorentz_4vec1[1]*Lorentz_4vec2[1]-Lorentz_4vec1[2]*Lorentz_4vec2[2]-Lorentz_4vec1[3]*Lorentz_4vec2[3]\n",
    "\n",
    "def get_theta(Lorentz_4vec):#return angle in degrees from z axis (0,0,1) from 4 momentum\n",
    "    z_hat = np.array([0,0,1])\n",
    "    p_vec = np.array([Lorentz_4vec[1],Lorentz_4vec[2],Lorentz_4vec[3]])\n",
    "    p_vec = p_vec / np.linalg.norm(p_vec)\n",
    "    angle_rad = np.arccos(np.dot(z_hat, p_vec))\n",
    "    angle_deg = np.degrees(angle_rad)\n",
    "    \n",
    "    return angle_deg\n",
    "\n",
    "#4-vector is in form of [t,x,y,z] instead of [x,y,z,t] for TLorentz vec for ROOT\n",
    "def get_anal_event(event_lst):\n",
    "    line_n = len(event_lst)\n",
    "    print(\"num of FS particles in event : \"+str(line_n))\n",
    "    run_n, event_n, particle_id, perweight, prod_id, beam_E, part_posm, part_4vec, part_pos = [], [], [], [], [], [], [], [], []\n",
    "    for i in range(0,line_n):\n",
    "        run_n.append(event_lst[i][0]) #run\n",
    "        event_n.append(event_lst[i][1]) #event\n",
    "        particle_id.append(event_lst[i][2]) #id of particle\n",
    "        perweight.append(event_lst[i][4]) #weight of event\n",
    "        prod_id.append(event_lst[i][13]) #production id\n",
    "        beam_E.append(event_lst[i][14]) #energy of incoming neutrino from beam\n",
    "\n",
    "        part_pos.append(np.array([event_lst[i][5], event_lst[i][6], event_lst[i][7]])) #position of particle in final state\n",
    "        part_4vec.append(np.array([event_lst[i][8], event_lst[i][9], event_lst[i][10], event_lst[i][11]]))\n",
    "        if (particle_id[i] == 902) or (particle_id[i] == 901): #particle is muon get scatter should be changed to 901 for electron\n",
    "            PU4pScatter = part_4vec[i]\n",
    "            \n",
    "        if perweight[i]<1e-10: #initial nucleon which should have 0 perweight\n",
    "            iniNfullp = part_4vec[i]\n",
    "    \n",
    "    beamE = sum(beam_E)/len(beam_E)\n",
    "    print(\"beam E : \"+str(beamE))\n",
    "    beamMass = PionMass\n",
    "    pz = np.sqrt(beamE*beamE-beamMass*beamMass)\n",
    "    beamp = np.array([beamE,0,0,pz])\n",
    "    dummyNu = np.array([beamE,0,0,beamE])\n",
    "    \n",
    "    print(\" PU4pScatter : \"+str(PU4pScatter))\n",
    "    lvq= dummyNu - PU4pScatter\n",
    "    \n",
    "    scattermomentum = get_P(PU4pScatter)\n",
    "    scattertheta = get_theta(PU4pScatter)\n",
    "    \n",
    "    Q2 = -get_mag2(lvq)\n",
    "    print(\" iniNfullp : \"+str(iniNfullp))\n",
    "    dummyW = lvq+iniNfullp\n",
    "    print(\" lvq : \"+str(lvq))\n",
    "    print(\" dummyW : \"+str(dummyW))\n",
    "    Wtrue = get_mag(dummyW)\n",
    "\n",
    "    xBj = Q2/(2*Dot_Lor(iniNfullp,lvq))\n",
    "    #prod id\n",
    "    #1: nucleon (QE)\n",
    "    #2-31: non-strange baryon resonance (as in IdTable)\n",
    "    #32: pi neutron-background (e.g. nu + n -> mu + pi+ + n)\n",
    "    #33: pi proton-background (e.g. nu + n -> mu + pi0 + p)\n",
    "    #34: DIS\n",
    "    #35: 2p2h QE\n",
    "    #36: 2p2h Delta\n",
    "    #37: two pion background\n",
    "    print()\n",
    "    if prod_id[0] == 1:\n",
    "        print(\"prod id : \"+str(prod_id[0])+\" event mode : QE\")\n",
    "    elif prod_id[0] <= 33:\n",
    "        print(\"prod id : \"+str(prod_id[0])+\" event mode : RES\")\n",
    "    elif prod_id[0] == 34:\n",
    "        print(\"prod id : \"+str(prod_id[0])+\" event mode : DIS\")\n",
    "    elif prod_id[0] == 35:\n",
    "        print(\"prod id : \"+str(prod_id[0])+\" event mode : 2p2h QE\")\n",
    "        \n",
    "    \n",
    "    print(\"run : \"+str(run_n[0])+\"\\n event : \"+str(event_n[0])+\"\\n prod_id : \"+str(prod_id[0])+\"\\n beamE : \"+str(beamE)+\"\\n scatter p : \"+str(scattermomentum))\n",
    "    print(\"scattertheta : \"+str(scattertheta)+\"\\n Q2 : \"+str(Q2)+\"\\n Wtrue : \"+str(Wtrue)+\"\\n xBj : \"+str(xBj))\n",
    "    \n",
    "    return [run_n[0], event_n[0], prod_id[0], beamE, scattermomentum, scattertheta, Q2, Wtrue, xBj]\n",
    "    \n",
    "    "
   ]
  },
  {
   "cell_type": "code",
   "execution_count": 6,
   "id": "c47062f7",
   "metadata": {},
   "outputs": [
    {
     "name": "stdout",
     "output_type": "stream",
     "text": [
      "the number of line of the txt file list is : 10167723\n",
      "[[2, 192, 902, -1, 0.0001895717, 0.0, 0.0, 0.0, 3.172954, -0.782087, -0.1741759, 3.068302, 0, 33, 5.165583], [2, 192, 1, 0, 0.0, 0.0, 0.0, 0.0, 0.9259209, 0.1856034, -0.0002121793, 0.1020846, 0, 33, 5.165583], [2, 192, 1, 1, 0.0001895717, -5.131554, 6.308086, 18.10065, 1.223003, -0.2427319, 0.2598311, 0.6996157, 1001001, 33, 5.165583], [2, 192, 101, 0, 0.0001895717, 30.76335, -3.550623, 6.204753, 0.6039399, 0.5693755, -0.06407947, 0.1319274, 0, 33, 5.165583], [2, 192, 101, -1, 0.0001895717, 19.57923, -5.322415, 21.03987, 0.4808295, 0.2940201, -0.0901691, 0.3428916, 2000007, 33, 5.165583], [2, 192, 101, 1, 0.0001895717, -1.51025, 18.82256, 8.49741, 0.2473333, -0.0502453, 0.1916702, 0.05355113, 3000002, 33, 5.165583], [2, 192, 1, 1, 0.0001895717, 8.389218, -3.214107, 18.7153, 1.268924, 0.2528522, -0.1533509, 0.8017933, 3000002, 33, 5.165583]]\n"
     ]
    }
   ],
   "source": [
    "filename = \"FinalEvents.dat\"\n",
    "event = read_event(filename,2,192)\n",
    "print(event)"
   ]
  },
  {
   "cell_type": "code",
   "execution_count": 17,
   "id": "65974f37",
   "metadata": {},
   "outputs": [
    {
     "name": "stdout",
     "output_type": "stream",
     "text": [
      "the number of line of the txt file list is : 10167723\n",
      "num of FS particles in event : 4\n",
      "beam E : 3.442237\n",
      " PU4pScatter : [ 2.128097   0.5021488 -0.2423581  2.051034 ]\n",
      " iniNfullp : [ 0.9158984   0.01526664 -0.04621209  0.01148205]\n",
      " lvq : [ 1.31414   -0.5021488  0.2423581  1.391203 ]\n",
      " dummyW : [ 2.2300384  -0.48688216  0.19614601  1.40268505]\n",
      "\n",
      "prod id : 33 event mode : RES\n",
      "run : 20 event : 1892 prod_id : 33 beamE : 3.442237 scatter p : 2.1254720264292004\n",
      "scattertheta : 15.208383672321517 Q2 : 0.5193727135860493 Wtrue : 1.65227673862942 xBj : 0.21523747970082271\n"
     ]
    },
    {
     "data": {
      "text/plain": [
       "[20,\n",
       " 1892,\n",
       " 33,\n",
       " 3.442237,\n",
       " 2.1254720264292004,\n",
       " 15.208383672321517,\n",
       " 0.5193727135860493,\n",
       " 1.65227673862942,\n",
       " 0.21523747970082271]"
      ]
     },
     "execution_count": 17,
     "metadata": {},
     "output_type": "execute_result"
    }
   ],
   "source": [
    "event = read_event(filename,20,1892)\n",
    "print(event)\n",
    "get_anal_event(event)"
   ]
  },
  {
   "cell_type": "code",
   "execution_count": 18,
   "id": "8762d930",
   "metadata": {},
   "outputs": [
    {
     "name": "stdout",
     "output_type": "stream",
     "text": [
      "the number of line of the txt file list is : 13669809\n",
      "[[2, 12, 902, -1, 3.801258e-05, 0.0, 0.0, 0.0, 1.831453, -0.05037215, 0.2958759, 1.803601, 0, 35, 1.955155], [2, 12, 1, 1, 0.0, 0.0, 0.0, 0.0, 0.9158672, -0.1977203, 0.03576699, 0.03877834, 0, 35, 1.955155], [2, 12, 1, 1, 3.801258e-05, -1.192684, -0.3328881, 10.83487, 0.9791979, -0.02407384, 0.03010662, 0.2783857, 0, 35, 1.955155], [2, 12, 1, 1, 3.801258e-05, -2.558745, -0.8691897, -5.964559, 0.962879, -0.01214603, 0.06179227, -0.2081531, 0, 35, 1.955155]]\n"
     ]
    }
   ],
   "source": [
    "filename = \"nu_mu_sample_jobcard4_MINERvA\\GiBUUMINERvALE_nu_T0_Carbon_1_out1/FinalEvents.dat\"\n",
    "event = read_event(filename,2,12)\n",
    "print(event)"
   ]
  },
  {
   "cell_type": "code",
   "execution_count": 33,
   "id": "fb28302f",
   "metadata": {},
   "outputs": [
    {
     "name": "stdout",
     "output_type": "stream",
     "text": [
      "the number of line of the txt file list is : 13669809\n",
      "[[7, 8248, 902, -1, 0.0001112534, 0.0, 0.0, 0.0, 2.529119, -0.1568405, -0.1737898, 2.516044, 0, 34, 5.151251], [7, 8248, 1, 1, 0.0, 0.0, 0.0, 0.0, 0.9085629, 0.06306799, -0.08375778, 0.01982305, 0, 34, 5.151251], [7, 8248, 1, 0, 0.0001112534, -6.993914, 1.597815, 15.53209, 1.14994, -0.2589687, 0.1286147, 0.5990922, 1001001, 34, 5.151251], [7, 8248, 101, 0, 0.0001112534, 19.66363, -12.18493, 13.18073, 0.3718823, 0.2789817, -0.1487294, 0.1389289, 2000010, 34, 5.151251], [7, 8248, 1, 1, 0.0001112534, 1.25765, 3.363306, 29.00245, 2.671542, 0.3086289, 0.3639089, 2.455527, 2000010, 34, 5.151251], [7, 8248, 1, 1, 0.0001112534, -5.092485, -3.863809, -9.417087, 0.9974436, -0.08951902, -0.1062925, -0.3094157, 2000002, 34, 5.151251], [7, 8248, 1, 1, 0.0001112534, 10.94556, -7.168531, 0.6983392, 1.069495, 0.4610607, -0.2202834, 0.05360076, 4000002, 34, 5.151251], [7, 8248, 1, 0, 0.0001112534, -1.378054, 9.203741, -6.309528, 1.110349, -0.04118636, 0.4968956, -0.3231545, 6002001, 34, 5.151251], [7, 8248, 1, 1, 0.0001112534, -2.370517, -3.709287, 2.761066, 0.9620922, 0.0008602004, -0.1812045, 0.1147401, 7001001, 34, 5.151251]]\n",
      "num of FS particles in event : 9\n",
      "beam E : 5.151251000000001\n",
      " PU4pScatter : [ 2.529119  -0.1568405 -0.1737898  2.516044 ]\n",
      " iniNfullp : [ 0.9085629   0.06306799 -0.08375778  0.01982305]\n",
      " lvq : [2.622132  0.1568405 0.1737898 2.635207 ]\n",
      " dummyW : [3.5306949  0.21990849 0.09003202 2.65503005]\n",
      "\n",
      "prod id : 34 event mode : DIS\n",
      "run : 7 event : 8248 prod_id : 34 beamE : 5.151251000000001 scatter p : 2.5269110089119264\n",
      "scattertheta : 5.315613939720586 Q2 : 0.12354154444929133 Wtrue : 2.3152011579738923 xBj : 0.02645657359410647\n"
     ]
    },
    {
     "data": {
      "text/plain": [
       "[7,\n",
       " 8248,\n",
       " 34,\n",
       " 5.151251000000001,\n",
       " 2.5269110089119264,\n",
       " 5.315613939720586,\n",
       " 0.12354154444929133,\n",
       " 2.3152011579738923,\n",
       " 0.02645657359410647]"
      ]
     },
     "execution_count": 33,
     "metadata": {},
     "output_type": "execute_result"
    }
   ],
   "source": [
    "event = read_event(filename,7,8248)\n",
    "print(event)\n",
    "get_anal_event(event)"
   ]
  },
  {
   "cell_type": "code",
   "execution_count": 34,
   "id": "62091b7b",
   "metadata": {},
   "outputs": [
    {
     "name": "stdout",
     "output_type": "stream",
     "text": [
      "the number of line of the txt file list is : 2520474\n",
      "[[2, 12, 901, -1, 3.084846e-05, 0.0, 0.0, 0.0, 1.595742, -0.1367419, -0.2170863, 1.574981, 0, 35, 1.631925], [2, 12, 1, 0, 0.0, 0.0, 0.0, 0.0, 0.9097171, 0.06701041, -0.09384776, -0.1111457, 0, 35, 1.631925], [2, 12, 1, 1, 3.084846e-05, -2.579089, 0.586928, 0.02537319, 0.939303, -0.09090551, -0.1850331, 0.1323261, 0, 35, 1.631925]]\n"
     ]
    }
   ],
   "source": [
    "filename = \"nu_e_sample_jobcard13_E7\\GiBUUMINERvALE_nu_T0_Carbon_1_out1/FinalEvents.dat\"\n",
    "event = read_event(filename,2,12)\n",
    "print(event)"
   ]
  },
  {
   "cell_type": "code",
   "execution_count": 43,
   "id": "41a12520",
   "metadata": {},
   "outputs": [
    {
     "name": "stdout",
     "output_type": "stream",
     "text": [
      "the number of line of the txt file list is : 2520474\n",
      "[[2, 11494, 901, -1, 9.870628e-05, 0.0, 0.0, 0.0, 2.451184, -0.104074, 0.1793049, 2.442401, 0, 33, 3.85099], [2, 11494, 1, 1, 0.0, 0.0, 0.0, 0.0, 0.9183071, -0.06572914, 0.1151882, -0.1233749, 0, 33, 3.85099], [2, 11494, 1, 1, 9.870628e-05, 7.27128, -15.75614, 8.35934, 1.201066, 0.1894457, -0.6319405, 0.3570395, 0, 33, 3.85099], [2, 11494, 1, 1, 9.870628e-05, 2.215473, -4.322532, 0.44121, 0.9446193, -0.05081354, -0.1022997, -0.009800713, 4001001, 33, 3.85099], [2, 11494, 1, 1, 9.870628e-05, -0.3145993, 20.42611, 17.2977, 1.58053, 0.05141028, 0.9962378, 0.7893651, 1101001, 33, 3.85099], [2, 11494, 1, 1, 9.870628e-05, 5.255197, -3.568153, -0.8856054, 1.048029, 0.4381197, -0.1310421, -0.09696247, 6002001, 33, 3.85099], [2, 11494, 1, 0, 9.870628e-05, -0.7912965, -8.120287, -3.934768, 0.9963142, -0.01090502, -0.2665864, -0.2039869, 4001001, 33, 3.85099], [2, 11494, 1, 1, 9.870628e-05, -4.413761, 1.903372, 9.655876, 1.028291, -0.1349313, 0.1009992, 0.3861759, 4000002, 33, 3.85099], [2, 11494, 1, 1, 9.870628e-05, -5.197148, 3.040154, -0.9517731, 0.9736015, -0.1953654, 0.1504816, -0.08515796, 6002001, 33, 3.85099]]\n",
      "num of FS particles in event : 9\n",
      "beam E : 3.85099\n",
      " PU4pScatter : [ 2.451184  -0.104074   0.1793049  2.442401 ]\n",
      " iniNfullp : [ 0.9183071  -0.06572914  0.1151882  -0.1233749 ]\n",
      " lvq : [ 1.399806   0.104074  -0.1793049  1.408589 ]\n",
      " dummyW : [ 2.3181131   0.03834486 -0.0641167   1.2852141 ]\n",
      "\n",
      "prod id : 33 event mode : RES\n",
      "run : 2\n",
      " event : 11494\n",
      " prod_id : 33\n",
      " beamE : 3.85099\n",
      " scatter p : 2.4511842626455094\n",
      "scattertheta : 4.8518498631406874\n",
      " Q2 : 0.06764777792501042\n",
      " Wtrue : 1.9277686017895117\n",
      " xBj : 0.022750513097931677\n"
     ]
    },
    {
     "data": {
      "text/plain": [
       "[2,\n",
       " 11494,\n",
       " 33,\n",
       " 3.85099,\n",
       " 2.4511842626455094,\n",
       " 4.8518498631406874,\n",
       " 0.06764777792501042,\n",
       " 1.9277686017895117,\n",
       " 0.022750513097931677]"
      ]
     },
     "execution_count": 43,
     "metadata": {},
     "output_type": "execute_result"
    }
   ],
   "source": [
    "event = read_event(filename,2,11494)\n",
    "print(event)\n",
    "get_anal_event(event)"
   ]
  },
  {
   "cell_type": "code",
   "execution_count": null,
   "id": "cda6c4d4",
   "metadata": {},
   "outputs": [],
   "source": []
  }
 ],
 "metadata": {
  "kernelspec": {
   "display_name": "Python 3 (ipykernel)",
   "language": "python",
   "name": "python3"
  },
  "language_info": {
   "codemirror_mode": {
    "name": "ipython",
    "version": 3
   },
   "file_extension": ".py",
   "mimetype": "text/x-python",
   "name": "python",
   "nbconvert_exporter": "python",
   "pygments_lexer": "ipython3",
   "version": "3.11.7"
  }
 },
 "nbformat": 4,
 "nbformat_minor": 5
}
